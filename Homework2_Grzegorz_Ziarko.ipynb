{
  "nbformat": 4,
  "nbformat_minor": 0,
  "metadata": {
    "colab": {
      "name": "Homework2_Grzegorz_Ziarko.ipynb",
      "provenance": [],
      "collapsed_sections": [],
      "authorship_tag": "ABX9TyPA5rhbNCEYTk/kmEhOQmsg",
      "include_colab_link": true
    },
    "kernelspec": {
      "name": "python3",
      "display_name": "Python 3"
    }
  },
  "cells": [
    {
      "cell_type": "markdown",
      "metadata": {
        "id": "view-in-github",
        "colab_type": "text"
      },
      "source": [
        "<a href=\"https://colab.research.google.com/github/Grzegorz1212/MyRepo/blob/main/Homework2_Grzegorz_Ziarko.ipynb\" target=\"_parent\"><img src=\"https://colab.research.google.com/assets/colab-badge.svg\" alt=\"Open In Colab\"/></a>"
      ]
    },
    {
      "cell_type": "code",
      "metadata": {
        "id": "Cmzc8L7kFH5f",
        "outputId": "1607b418-2632-45e8-ec04-5624da64bc0a",
        "colab": {
          "base_uri": "https://localhost:8080/",
          "height": 310
        }
      },
      "source": [
        "import numpy as np\n",
        "import pandas as pd\n",
        "import matplotlib.pyplot as plt\n",
        "n = 40000000\n",
        "year = np.random.randint(low=00, high=100, size=n)\n",
        "month = np.random.randint(low=1, high=13, size=n)\n",
        "day = np.random.randint(low=1, high=32, size=n)\n",
        "#correct day due to months  and leap years\n",
        "day[month == 12] = np.random.randint(low=1, high=31, size=len(month[month == 12]))\n",
        "day[np.logical_or(month == 4, month == 6)] = np.random.randint(low=1, high=31, size=len(month[np.logical_or(month == 4, month == 6)]))\n",
        "day[np.logical_or(month == 9, month == 11)] = np.random.randint(low=1, high=31, size=len(month[np.logical_or(month == 9, month == 11)]))\n",
        "day[month == 2] = np.random.randint(low=1, high=29, size=len(month[month == 2]))\n",
        "temp_month = 20*np.random.randint(0, 5, size = n)\n",
        "day[np.logical_and(month == 2, np.logical_and(year % 4 == 0, np.logical_and(temp_month != 0, year != 0)))] = np.random.randint(low=1, high=30, size=len(month[np.logical_and(month == 2, np.logical_and(year % 4 == 0, np.logical_and(temp_month != 0, year != 0)))]))\n",
        "\n",
        "#any year represented as given month notation\n",
        "month = month + temp_month\n",
        "\n",
        "ser_1 = np.random.randint(low=0, high=10, size=n)\n",
        "ser_2 = np.random.randint(low=0, high=10, size=n)\n",
        "ser_3 = np.random.randint(low=0, high=10, size=n)\n",
        "sex = np.random.randint(low=0, high=10, size=n)\n",
        "\n",
        "\n",
        "# checksum\n",
        "control = (year//10) + 3*(year%10)\n",
        "control += 7*(month//10) + 9*(month%10)\n",
        "control += (day//10) + 3*(day%10)\n",
        "control += 7*(ser_1//10) + 9*(ser_1%10)\n",
        "control += (ser_2//10) + 3*(ser_2%10)\n",
        "control += 7*(ser_3//10) + 9*(ser_3%10)\n",
        "control += (sex//10) + 3*(sex%10)\n",
        "\n",
        "control = (10 - (control % 10)) % 10\n",
        "\n",
        "pesel_db = 1000000000*year + 10000000*month + 100000*day + 10000*ser_1 + 1000*ser_2 + 100*ser_3 + 10 * sex + control\n",
        "print('Lenght of pesels: ' + str(len(pesel_db)))\n",
        "#removing duplicates\n",
        "pesel = np.unique(pesel_db, axis = 0)\n",
        "print('Lenght of pesels without duplicats: ' + str(len(pesel)))\n",
        "#print(pesel)\n",
        "\n",
        "#calculating vibration\n",
        "vibration = pesel%10 + (pesel%100 - pesel%10)/10 + (pesel%1000 - pesel%100)/100 +  (pesel%10000 - pesel%1000)/1000 + (pesel%100000 - pesel%10000)/10000 + (pesel%1000000 - pesel%100000)/100000 + (pesel%10000000 - pesel%1000000)/1000000 + (pesel%100000000 - pesel%10000000)/10000000 + (pesel%1000000000 - pesel%100000000)/100000000 + (pesel%10000000000 - pesel%1000000000)/1000000000 + (pesel%100000000000 - pesel%10000000000)/10000000000 \n",
        "#print(vibration)\n",
        "vibration = vibration%10 + (vibration%100 - vibration%10)/10 \n",
        "vibration = vibration%10 + (vibration%100 - vibration%10)/10 \n",
        "vibration = vibration.astype(np.int32)\n",
        "#print(vibration)\n",
        "\n",
        "plt.hist(vibration, bins = 9)\n",
        "plt.show()"
      ],
      "execution_count": 81,
      "outputs": [
        {
          "output_type": "stream",
          "text": [
            "Lenght of pesels: 40000000\n",
            "Lenght of pesels without duplicats: 39561994\n"
          ],
          "name": "stdout"
        },
        {
          "output_type": "display_data",
          "data": {
            "image/png": "[encoded data removed]",
            "text/plain": [
              "<Figure size 432x288 with 1 Axes>"
            ]
          },
          "metadata": {
            "tags": [],
            "needs_background": "light"
          }
        }
      ]
    },
    {
      "cell_type": "code",
      "metadata": {
        "id": "zOjFbiOwnocC",
        "outputId": "d1dc3079-ced8-460d-89eb-23a2bd53f62f",
        "colab": {
          "base_uri": "https://localhost:8080/"
        }
      },
      "source": [
        "pesel_db"
      ],
      "execution_count": 61,
      "outputs": [
        {
          "output_type": "execute_result",
          "data": {
            "text/plain": [
              "array([25821751302, 63882558607, 80420278274, 91882941266])"
            ]
          },
          "metadata": {
            "tags": []
          },
          "execution_count": 61
        }
      ]
    }
  ]
}